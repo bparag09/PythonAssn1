{
 "cells": [
  {
   "cell_type": "code",
   "execution_count": 8,
   "metadata": {},
   "outputs": [
    {
     "name": "stdout",
     "output_type": "stream",
     "text": [
      "This is a placement assignment\n",
      "replaced the text\n",
      "This is a screening assignment\n"
     ]
    }
   ],
   "source": [
    "# question 1\n",
    "def replace1(text,replacement,path):\n",
    "    with open(path, 'r') as f:\n",
    "        read = f.read()\n",
    "    r = read.replace(text,replacement)\n",
    "    with open(path, 'w') as f:\n",
    "        f.write(r)\n",
    "    return \"replaced the text\" \n",
    "\n",
    "with open('example.txt' , 'r+') as f:\n",
    "    f.write('This is a placement assignment')\n",
    "    f.seek(0)\n",
    "    print(f.read())\n",
    "    \n",
    "print(replace1(\"placement\", \"screening\", \"example.txt\"))\n",
    "with open('example.txt', 'r') as f:\n",
    "    print(f.read())"
   ]
  },
  {
   "cell_type": "code",
   "execution_count": 11,
   "metadata": {},
   "outputs": [
    {
     "name": "stdout",
     "output_type": "stream",
     "text": [
      "This is an abstract class\n",
      "8\n",
      "\n",
      "This is an abstract class\n",
      "10\n"
     ]
    }
   ],
   "source": [
    "#abstract class\n",
    "from abc import ABC,abstractmethod\n",
    "class calc_peri(ABC):    \n",
    "    def repr_(self):\n",
    "        return \"This is an abstract class\"\n",
    "    @abstractmethod\n",
    "    def peri(self):\n",
    "        pass\n",
    "    \n",
    "class square(calc_peri):\n",
    "    def __init__(self,side):\n",
    "        self.__side=side\n",
    "    def peri(self):\n",
    "        return 4*self.__side\n",
    "    \n",
    "class rect(calc_peri):\n",
    "    def __init__(self,length,width):\n",
    "        self.__length = length\n",
    "        self.__width = width\n",
    "    def peri(self):\n",
    "        return 2*(self.__length+self.__width)\n",
    "\n",
    "s = square(2)\n",
    "print(s.repr_())\n",
    "print(s.peri(),end=\"\\n\\n\")\n",
    "\n",
    "r = rect(2,3)\n",
    "print(r.repr_())\n",
    "print(r.peri())"
   ]
  },
  {
   "cell_type": "code",
   "execution_count": 13,
   "metadata": {},
   "outputs": [
    {
     "name": "stdout",
     "output_type": "stream",
     "text": [
      "method of class1\n",
      "method of class2\n",
      "method of class3\n"
     ]
    }
   ],
   "source": [
    "#multiple inheritance\n",
    "class class1():\n",
    "    def m(self):\n",
    "        return \"method of class1\"\n",
    "\n",
    "class class2():\n",
    "    def m1(self):\n",
    "        return \"method of class2\"\n",
    "\n",
    "class class3(class1,class2):\n",
    "    def m2(self):\n",
    "        return \"method of class3\"\n",
    "\n",
    "c = class3()\n",
    "print(c.m())\n",
    "print(c.m1())\n",
    "print(c.m2())\n",
    "    "
   ]
  },
  {
   "cell_type": "code",
   "execution_count": 20,
   "metadata": {},
   "outputs": [
    {
     "name": "stdout",
     "output_type": "stream",
     "text": [
      "squaring the inut 42\n",
      "1764\n"
     ]
    }
   ],
   "source": [
    "#decorator\n",
    "def square(func):\n",
    "    def inner1(a):\n",
    "        print(\"squaring the inut\", a)\n",
    "        print(a**2)\n",
    "        func()\n",
    "    return inner1\n",
    "\n",
    "@square\n",
    "def input():\n",
    "    pass\n",
    "\n",
    "input(42)"
   ]
  }
 ],
 "metadata": {
  "kernelspec": {
   "display_name": "Python 3",
   "language": "python",
   "name": "python3"
  },
  "language_info": {
   "codemirror_mode": {
    "name": "ipython",
    "version": 3
   },
   "file_extension": ".py",
   "mimetype": "text/x-python",
   "name": "python",
   "nbconvert_exporter": "python",
   "pygments_lexer": "ipython3",
   "version": "3.7.6"
  }
 },
 "nbformat": 4,
 "nbformat_minor": 4
}
